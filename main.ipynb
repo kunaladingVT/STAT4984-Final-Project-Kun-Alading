{
  "cells": [
    {
      "cell_type": "code",
      "execution_count": null,
      "metadata": {
        "id": "QoWxyfD71EgK"
      },
      "outputs": [],
      "source": [
        "import torch\n",
        "import torch.nn as nn\n",
        "import torch.nn.functional as F\n",
        "from torchvision import transforms\n",
        "import torch.optim as optim\n",
        "\n",
        "from PIL import Image\n",
        "\n",
        "import matplotlib.pyplot as plt\n",
        "import numpy as np\n",
        "from collections import Counter\n",
        "\n",
        "import os\n",
        "from torch.utils.data import DataLoader, Dataset\n",
        "\n",
        "from sklearn.metrics import classification_report\n",
        "from PIL import Image\n",
        "plt.rcParams.update({'font.size': 20})"
      ]
    },
    {
      "cell_type": "code",
      "execution_count": null,
      "metadata": {
        "colab": {
          "base_uri": "https://localhost:8080/"
        },
        "id": "sZh2cQfq2J9M",
        "outputId": "e66e85ed-ae4d-4d6a-82bf-82c06144920b"
      },
      "outputs": [],
      "source": [
        "!unzip Dataset.zip"
      ]
    },
    {
      "cell_type": "code",
      "execution_count": null,
      "metadata": {
        "colab": {
          "base_uri": "https://localhost:8080/",
          "height": 35
        },
        "id": "YJPaNLaYMeq-",
        "outputId": "66c10983-a921-476b-a3fe-5821e5d0a185"
      },
      "outputs": [],
      "source": [
        "device = 'cuda' if torch.cuda.is_available() else 'cpu'\n",
        "device"
      ]
    },
    {
      "attachments": {},
      "cell_type": "markdown",
      "metadata": {
        "id": "u1JTm3GgxMaq"
      },
      "source": [
        "## Data visualization"
      ]
    },
    {
      "cell_type": "code",
      "execution_count": null,
      "metadata": {
        "id": "BkrS8IxA1EgM"
      },
      "outputs": [],
      "source": [
        "train_dir = 'Dataset/Training/'\n",
        "test_dir = 'Dataset/Testing/'\n",
        "\n",
        "train_paths = []\n",
        "train_labels = []\n",
        "\n",
        "for label in os.listdir(train_dir):\n",
        "    for image in os.listdir(train_dir+label):\n",
        "        train_paths.append(train_dir+label+'/'+image)\n",
        "        train_labels.append(label)"
      ]
    },
    {
      "cell_type": "code",
      "execution_count": null,
      "metadata": {
        "id": "Oq1IJfIO1EgN"
      },
      "outputs": [],
      "source": [
        "test_paths = []\n",
        "test_labels = []\n",
        "\n",
        "for label in os.listdir(test_dir):\n",
        "    for image in os.listdir(test_dir+label):\n",
        "        test_paths.append(test_dir+label+'/'+image)\n",
        "        test_labels.append(label)"
      ]
    },
    {
      "cell_type": "code",
      "execution_count": null,
      "metadata": {
        "colab": {
          "base_uri": "https://localhost:8080/",
          "height": 630
        },
        "id": "NprHNGFmx4Zi",
        "outputId": "d3dd7636-7e63-4046-d4d9-9cc73518c9e3"
      },
      "outputs": [],
      "source": [
        "plt.figure(figsize=(10,10))\n",
        "plt.pie(Counter(train_labels).values(), labels = Counter(test_labels).keys(), autopct='%.1f%%')\n",
        "plt.title('Percentage distribution of train data')\n",
        "plt.show() "
      ]
    },
    {
      "cell_type": "code",
      "execution_count": null,
      "metadata": {
        "colab": {
          "base_uri": "https://localhost:8080/",
          "height": 617
        },
        "id": "WrTKAtln1EgN",
        "outputId": "83017ea0-fc72-4966-d703-9dc65a41e1ae"
      },
      "outputs": [],
      "source": [
        "plt.figure(figsize=(10,10))\n",
        "plt.pie(Counter(test_labels).values(), labels = Counter(test_labels).keys(), autopct='%.1f%%')\n",
        "plt.title('Percentage distribution of test data')\n",
        "plt.show() "
      ]
    },
    {
      "cell_type": "code",
      "execution_count": null,
      "metadata": {
        "colab": {
          "base_uri": "https://localhost:8080/",
          "height": 672
        },
        "id": "LOskGuDT1EgO",
        "outputId": "248795ef-719c-4618-8d25-d749869af3d4"
      },
      "outputs": [],
      "source": [
        "plt.figure(figsize=(10,10))\n",
        "plt.pie([len(train_labels), len(test_labels)], labels = ['train', 'test'], autopct='%.1f%%')\n",
        "plt.title('Percentage distribution of dataset')\n",
        "plt.show() "
      ]
    },
    {
      "cell_type": "code",
      "execution_count": null,
      "metadata": {
        "colab": {
          "base_uri": "https://localhost:8080/",
          "height": 672
        },
        "id": "cOh-kw7NiqSl",
        "outputId": "6f9aaed2-3847-47cc-b131-25d089bd2d86"
      },
      "outputs": [],
      "source": [
        "plt.figure(figsize=(10,10))\n",
        "plt.pie([5000, 712, len(test_labels)], labels = ['train', 'val','test'], autopct='%.1f%%', startangle=90)\n",
        "plt.title('Percentage distribution of dataset for model')\n",
        "plt.show() "
      ]
    },
    {
      "attachments": {},
      "cell_type": "markdown",
      "metadata": {
        "id": "rrFz8r30xXrW"
      },
      "source": [
        "## Pytorch load dataset"
      ]
    },
    {
      "cell_type": "code",
      "execution_count": null,
      "metadata": {
        "id": "AQLkADxW1EgO"
      },
      "outputs": [],
      "source": [
        "class TumorDataset(Dataset):\n",
        "    \n",
        "    def __init__(self, train, transform=None):\n",
        "        if train:\n",
        "            self.dir = 'Dataset/Training/'\n",
        "        else:\n",
        "            self.dir = 'Dataset/Testing/'\n",
        "        self.transform = transform\n",
        "        self.labelinnum = {'glioma':0, 'meningioma':1, 'notumor':2, 'pituitary':3}\n",
        "        self.paths = []\n",
        "        self.labels = []\n",
        "\n",
        "        for label in os.listdir(self.dir):\n",
        "            for image in os.listdir(self.dir+label):\n",
        "                self.paths.append(self.dir+label+'/'+image)\n",
        "                self.labels.append(label)\n",
        "\n",
        "    def __len__(self):\n",
        "        return len(self.labels)\n",
        "    \n",
        "    def __getitem__(self, index):\n",
        "        image = Image.open(self.paths[index])\n",
        "        if self.transform is not None:\n",
        "            image = self.transform(image)    \n",
        "        label = self.labelinnum[self.labels[index]]\n",
        "        return image, label"
      ]
    },
    {
      "cell_type": "code",
      "execution_count": null,
      "metadata": {
        "id": "D2aucbQM1EgO"
      },
      "outputs": [],
      "source": [
        "train = TumorDataset(train=True, transform=transforms.Compose([transforms.Resize((512, 512)),transforms.Grayscale(), transforms.ToTensor()]))\n",
        "test = TumorDataset(train=False, transform=transforms.Compose([transforms.Resize((512, 512)),transforms.Grayscale(), transforms.ToTensor()]))\n",
        "\n",
        "train_set, val_set = torch.utils.data.random_split(train, [5000, 712])"
      ]
    },
    {
      "cell_type": "code",
      "execution_count": null,
      "metadata": {
        "id": "ZIjRyl8Y1EgP"
      },
      "outputs": [],
      "source": [
        "batch_size=128\n",
        "trainset = DataLoader(dataset=train_set, batch_size=batch_size, shuffle=True)\n",
        "testset = DataLoader(dataset=test, batch_size=batch_size, shuffle=True)\n",
        "valset = DataLoader(dataset=val_set, batch_size=len(val_set), shuffle=True)\n",
        "trainloss = DataLoader(dataset=train_set, batch_size=len(train_set), shuffle=True)"
      ]
    },
    {
      "attachments": {},
      "cell_type": "markdown",
      "metadata": {
        "id": "r6hy4fKZxdrQ"
      },
      "source": [
        "## Models"
      ]
    },
    {
      "cell_type": "code",
      "execution_count": null,
      "metadata": {
        "id": "Qo9ejqGU1EgP"
      },
      "outputs": [],
      "source": [
        "class Inception(nn.Module):\n",
        "    def __init__(self, in_channels, ch1x1, ch3x3red, ch3x3, ch5x5red, ch5x5, pool_proj):\n",
        "        super(Inception, self).__init__()\n",
        "        \n",
        "        # 1x1 conv branch\n",
        "        self.branch1 = nn.Sequential(\n",
        "            nn.Conv2d(in_channels, ch1x1, kernel_size=1),\n",
        "            nn.ReLU(inplace=True)\n",
        "        )\n",
        "        \n",
        "        # 3x3 conv branch\n",
        "        self.branch2 = nn.Sequential(\n",
        "            nn.Conv2d(in_channels, ch3x3red, kernel_size=1),\n",
        "            nn.ReLU(inplace=True),\n",
        "            nn.Conv2d(ch3x3red, ch3x3, kernel_size=3, padding=1),\n",
        "            nn.ReLU(inplace=True)\n",
        "        )\n",
        "        \n",
        "        # 5x5 conv branch\n",
        "        self.branch3 = nn.Sequential(\n",
        "            nn.Conv2d(in_channels, ch5x5red, kernel_size=1),\n",
        "            nn.ReLU(inplace=True),\n",
        "            nn.Conv2d(ch5x5red, ch5x5, kernel_size=5, padding=2),\n",
        "            nn.ReLU(inplace=True)\n",
        "        )\n",
        "        \n",
        "        # pool branch\n",
        "        self.branch4 = nn.Sequential(\n",
        "            nn.MaxPool2d(kernel_size=3, stride=1, padding=1),\n",
        "            nn.Conv2d(in_channels, pool_proj, kernel_size=1),\n",
        "            nn.ReLU(inplace=True)\n",
        "        )\n",
        "        \n",
        "    def forward(self, x):\n",
        "        branch1 = self.branch1(x)\n",
        "        branch2 = self.branch2(x)\n",
        "        branch3 = self.branch3(x)\n",
        "        branch4 = self.branch4(x)\n",
        "        \n",
        "        outputs = [branch1, branch2, branch3, branch4]\n",
        "        return torch.cat(outputs, 1)\n",
        "\n",
        "class GoogLeNet(nn.Module):\n",
        "    def __init__(self, num_classes=4):\n",
        "        super(GoogLeNet, self).__init__()\n",
        "        \n",
        "        self.conv1 = nn.Sequential(\n",
        "            nn.Conv2d(1, 64, kernel_size=7, stride=2, padding=3),\n",
        "            nn.ReLU(inplace=True),\n",
        "            nn.MaxPool2d(kernel_size=3, stride=2, padding=1)\n",
        "        )\n",
        "        \n",
        "        self.conv2 = nn.Sequential(\n",
        "            nn.Conv2d(64, 64, kernel_size=1),\n",
        "            nn.ReLU(inplace=True),\n",
        "            nn.Conv2d(64, 192, kernel_size=3, padding=1),\n",
        "            nn.ReLU(inplace=True),\n",
        "            nn.MaxPool2d(kernel_size=3, stride=2, padding=1)\n",
        "        )\n",
        "        \n",
        "        self.inception3a = Inception(192, 64, 96, 128, 16, 32, 32)\n",
        "        self.inception3b = Inception(256, 128, 128, 192, 32, 96, 64)\n",
        "        \n",
        "        self.inception4a = Inception(480, 192, 96, 208, 16, 48, 64)\n",
        "        self.inception4b = Inception(512, 160, 112, 224, 24, 64, 64)\n",
        "        self.inception4c = Inception(512, 128, 128, 256, 24, 64, 64)\n",
        "        self.inception4d = Inception(512, 112, 144, 288,32, 64, 64)\n",
        "    \n",
        "        self.inception5a = Inception(528, 256, 160, 320, 32, 128, 128)\n",
        "        self.inception5b = Inception(832, 384, 192, 384, 48, 128, 128)\n",
        "        \n",
        "        self.avgpool = nn.AdaptiveAvgPool2d((1, 1))\n",
        "        self.dropout = nn.Dropout(0.4)\n",
        "        self.fc = nn.Linear(1024, num_classes)\n",
        "    \n",
        "    def forward(self, x):\n",
        "        x = self.conv1(x)\n",
        "        x = self.conv2(x)\n",
        "        x = self.inception3a(x)\n",
        "        x = self.inception3b(x)\n",
        "        x = nn.MaxPool2d(kernel_size=3, stride=2, padding=1)(x)\n",
        "        x = self.inception4a(x)\n",
        "        x = self.inception4b(x)\n",
        "        x = self.inception4c(x)\n",
        "        x = self.inception4d(x)\n",
        "        x = nn.MaxPool2d(kernel_size=3, stride=2, padding=1)(x)\n",
        "        x = self.inception5a(x)\n",
        "        x = self.inception5b(x)\n",
        "        x = self.avgpool(x)\n",
        "        x = x.view(x.size(0), -1)\n",
        "        x = self.dropout(x)\n",
        "        x = self.fc(x)\n",
        "        return x\n"
      ]
    },
    {
      "cell_type": "code",
      "execution_count": null,
      "metadata": {
        "id": "Ud9Yjp-fdR1Q"
      },
      "outputs": [],
      "source": [
        "class VGG9(nn.Module):\n",
        "    def __init__(self, num_classes=4):\n",
        "        super(VGG9, self).__init__()\n",
        "        self.features = nn.Sequential(\n",
        "            nn.Conv2d(1, 64, kernel_size=3, padding=1),\n",
        "            nn.ReLU(inplace=True),\n",
        "            nn.MaxPool2d(kernel_size=2, stride=2),\n",
        "\n",
        "            nn.Conv2d(64, 128, kernel_size=3, padding=1),\n",
        "            nn.ReLU(inplace=True),\n",
        "            nn.MaxPool2d(kernel_size=2, stride=2),\n",
        "\n",
        "            nn.Conv2d(128, 256, kernel_size=3, padding=1),\n",
        "            nn.ReLU(inplace=True),\n",
        "            nn.Conv2d(256, 256, kernel_size=3, padding=1),\n",
        "            nn.ReLU(inplace=True),\n",
        "            nn.MaxPool2d(kernel_size=2, stride=2),\n",
        "\n",
        "            nn.Conv2d(256, 512, kernel_size=3, padding=1),\n",
        "            nn.ReLU(inplace=True),\n",
        "            nn.MaxPool2d(kernel_size=2, stride=2),\n",
        "        )\n",
        "\n",
        "        self.avgpool = nn.AdaptiveAvgPool2d((16, 16))\n",
        "        self.classifier = nn.Sequential(\n",
        "            nn.Linear(512 * 16 * 16, 4096),\n",
        "            nn.ReLU(inplace=True),\n",
        "            nn.Dropout(),\n",
        "            nn.Linear(4096, num_classes),\n",
        "        )\n",
        "\n",
        "    def forward(self, x):\n",
        "        x = self.features(x)\n",
        "        x = self.avgpool(x)\n",
        "        x = torch.flatten(x, 1)\n",
        "        x = self.classifier(x)\n",
        "        return x"
      ]
    },
    {
      "cell_type": "code",
      "execution_count": null,
      "metadata": {
        "id": "HYi6K2nJ1EgQ"
      },
      "outputs": [],
      "source": [
        "class AlexNet(nn.Module):\n",
        "    def __init__(self, num_classes=1000):\n",
        "        super(AlexNet, self).__init__()\n",
        "        self.features = nn.Sequential(\n",
        "            nn.Conv2d(1, 64, kernel_size=11, stride=4, padding=2),\n",
        "            nn.ReLU(inplace=True),\n",
        "            nn.MaxPool2d(kernel_size=3, stride=2),\n",
        "            nn.Conv2d(64, 192, kernel_size=5, padding=2),\n",
        "            nn.ReLU(inplace=True),\n",
        "            nn.MaxPool2d(kernel_size=3, stride=2),\n",
        "            nn.Conv2d(192, 384, kernel_size=3, padding=1),\n",
        "            nn.ReLU(inplace=True),\n",
        "            nn.Conv2d(384, 256, kernel_size=3, padding=1),\n",
        "            nn.ReLU(inplace=True),\n",
        "            nn.Conv2d(256, 256, kernel_size=3, padding=1),\n",
        "            nn.ReLU(inplace=True),\n",
        "            nn.MaxPool2d(kernel_size=3, stride=2),\n",
        "        )\n",
        "        self.avgpool = nn.AdaptiveAvgPool2d((6, 6))\n",
        "        self.classifier = nn.Sequential(\n",
        "            nn.Dropout(),\n",
        "            nn.Linear(256 * 6 * 6, 4096),\n",
        "            nn.ReLU(inplace=True),\n",
        "            nn.Dropout(),\n",
        "            nn.Linear(4096, 4096),\n",
        "            nn.ReLU(inplace=True),\n",
        "            nn.Dropout(),\n",
        "            nn.Linear(4096, num_classes)\n",
        "        )\n",
        "\n",
        "    def forward(self, x):\n",
        "        x = self.features(x)\n",
        "        x = self.avgpool(x)\n",
        "        x = x.view(x.size(0), 256 * 6 * 6)\n",
        "        x = self.classifier(x)\n",
        "        return x"
      ]
    },
    {
      "cell_type": "code",
      "execution_count": null,
      "metadata": {
        "id": "pbyXfw0N1EgQ"
      },
      "outputs": [],
      "source": [
        "class LeNet(nn.Module):\n",
        "    def __init__(self):\n",
        "        super(LeNet, self).__init__()\n",
        "        self.conv1 = nn.Conv2d(1, 6, 5)\n",
        "        self.pool1 = nn.MaxPool2d(2, 2)\n",
        "        self.conv2 = nn.Conv2d(6, 16, 5)\n",
        "        self.pool2 = nn.MaxPool2d(2, 2)\n",
        "        self.fc1 = nn.Linear(16 * 125 * 125, 120)\n",
        "        self.fc2 = nn.Linear(120, 84)\n",
        "        self.fc3 = nn.Linear(84, 4)\n",
        "        self.dropout = nn.Dropout(0.7)\n",
        "\n",
        "    def forward(self, x):\n",
        "        x = self.pool1(F.relu(self.conv1(x)))\n",
        "        x = self.pool2(F.relu(self.conv2(x)))\n",
        "        x = x.view(-1, 16 * 125 * 125)\n",
        "        x = self.dropout(x)\n",
        "        x = F.relu(self.fc1(x))\n",
        "        x = self.dropout(x)\n",
        "        x = F.relu(self.fc2(x))\n",
        "        x = self.dropout(x)\n",
        "        x = self.fc3(x)\n",
        "        return x"
      ]
    },
    {
      "cell_type": "code",
      "execution_count": null,
      "metadata": {
        "id": "t4T9Ez39GBp8"
      },
      "outputs": [],
      "source": [
        "def evaluate_accuracy(testset, net, device):\n",
        "  correct = 0\n",
        "  total = 0\n",
        "  with torch.no_grad():\n",
        "      for data in testset:\n",
        "          X, y = data\n",
        "          X = X.to(device)\n",
        "          y = y.to(device)\n",
        "          output = net(X)\n",
        "          \n",
        "          for idx, i in enumerate(output):\n",
        "              if torch.argmax(i) == y[idx]:\n",
        "                  correct += 1\n",
        "              total += 1 \n",
        "  return round(correct/total*100, 4) "
      ]
    },
    {
      "attachments": {},
      "cell_type": "markdown",
      "metadata": {
        "id": "-OneK9eBxkPO"
      },
      "source": [
        "## Train"
      ]
    },
    {
      "cell_type": "code",
      "execution_count": null,
      "metadata": {
        "id": "OidVahgJ1EgR"
      },
      "outputs": [],
      "source": [
        "def train(net, loss_f, optimizer, n_epoch=1):\n",
        "    lossdata = []\n",
        "    vallossdata = []\n",
        "    acc=[]\n",
        "    valacc=[]\n",
        "    torch.cuda.empty_cache()\n",
        "    for epoch in range(n_epoch):\n",
        "        net.train()\n",
        "        batch_idx = 0 \n",
        "        l = 0\n",
        "        for data in trainset:\n",
        "            X, y = data\n",
        "            X = X.to(device)\n",
        "            y = y.to(device) \n",
        "            optimizer.zero_grad()  \n",
        "            output = net(X)\n",
        "            loss = loss_f(output, y)  \n",
        "\n",
        "            # Backpropergation \n",
        "            loss.backward()  \n",
        "            optimizer.step()\n",
        "            \n",
        "            l += loss.item()\n",
        "            batch_idx += 1\n",
        "        net.eval()\n",
        "        lossdata.append(l/128)\n",
        "        with torch.no_grad():\n",
        "            for data in valset:\n",
        "                x_t,y_t = data\n",
        "                x_t = x_t.to(device)\n",
        "                y_t = y_t.to(device) \n",
        "                vallossdata.append(loss_f(net(x_t), y_t).item())\n",
        "        acc.append(evaluate_accuracy(trainset, net, device))\n",
        "        valacc.append(evaluate_accuracy(valset, net, device))\n",
        "        print(f\"Epoch: {epoch} Idx:{batch_idx}  Epoch Progress:{round(batch_idx/len(trainset)*100, 2)}%    Training Progress:{round((epoch*len(trainset)+batch_idx)/(n_epoch*len(trainset))*100,2)}%\")    \n",
        "    return lossdata, acc, vallossdata, valacc"
      ]
    },
    {
      "cell_type": "code",
      "execution_count": null,
      "metadata": {
        "id": "K5HWu37-1EgQ"
      },
      "outputs": [],
      "source": [
        "loss_criterion = nn.CrossEntropyLoss()\n",
        "\n",
        "# Alex = AlexNet(4)\n",
        "# Alex.to(device)\n",
        "# AlexNet_optimizer = optim.Adam(Alex.parameters(), lr=0.001)\n",
        "\n",
        "# Le = LeNet()\n",
        "# Le.to(device)\n",
        "# LeNet_optimizer = optim.Adam(Le.parameters(), lr=0.001)\n",
        "\n",
        "VGG = VGG9(4)\n",
        "VGG.to(device)\n",
        "VGGNet_optimizer = optim.Adam(VGG.parameters(), lr=0.001)\n",
        "\n",
        "# GoogLeNet = GoogLeNet(4)\n",
        "# GoogLeNet.to(device)\n",
        "# GoogLeNet_optimizer = optim.Adam(GoogLeNet.parameters(), lr=0.001)"
      ]
    },
    {
      "cell_type": "code",
      "execution_count": null,
      "metadata": {
        "colab": {
          "base_uri": "https://localhost:8080/",
          "height": 503
        },
        "id": "-tFIRCSr1EgR",
        "outputId": "5db77cc6-9ea6-436f-c2ef-d5434b82b5ff"
      },
      "outputs": [],
      "source": [
        "n_epoch = 50\n",
        "#lossdata_alex, acc_alex, vallossdata_alex, valacc_alex = train(Alex, loss_criterion, AlexNet_optimizer, n_epoch)\n",
        "#lossdata_le, acc_le, vallossdata_le, valacc_le = train(Le, loss_criterion, LeNet_optimizer, n_epoch)\n",
        "lossdata_vgg, acc_vgg, vallossdata_vgg, valacc_vgg = train(VGG, loss_criterion, VGGNet_optimizer, n_epoch)\n",
        "#x3 = train(GoogLeNet, loss_criterion, GoogLeNet_optimizer, n_epoch)"
      ]
    },
    {
      "cell_type": "code",
      "execution_count": null,
      "metadata": {
        "id": "L_3Tdqt-ksF-"
      },
      "outputs": [],
      "source": [
        "plt.rcParams.update({'font.size': 10})"
      ]
    },
    {
      "cell_type": "code",
      "execution_count": null,
      "metadata": {
        "id": "uMEfYsL52vAi"
      },
      "outputs": [],
      "source": [
        "plt.plot(np.arange(n_epoch), lossdata_le, label = \"Train\")\n",
        "plt.plot(np.arange(n_epoch), vallossdata_le, label = \"Validation\")\n",
        "plt.title(\"LeNet: loss vs. epoch\")\n",
        "plt.xlabel(\"epoch\")\n",
        "plt.ylabel(\"loss\")\n",
        "plt.xlim(0,n_epoch)\n",
        "plt.legend()\n",
        "plt.grid()\n",
        "plt.show()"
      ]
    },
    {
      "cell_type": "code",
      "execution_count": null,
      "metadata": {
        "id": "hIsLfRn42vzb"
      },
      "outputs": [],
      "source": [
        "plt.plot(np.arange(n_epoch), acc_le, label = \"Train\")\n",
        "plt.plot(np.arange(n_epoch), valacc_le, label = \"Validation\")\n",
        "plt.title(\"LeNet: Accuracy vs. epoch\")\n",
        "plt.xlabel(\"epoch\")\n",
        "plt.ylabel(\"Accuracy\")\n",
        "plt.xlim(0,n_epoch)\n",
        "plt.legend()\n",
        "plt.grid()\n",
        "plt.show()"
      ]
    },
    {
      "cell_type": "code",
      "execution_count": null,
      "metadata": {
        "id": "gga0ZdHFSNAh"
      },
      "outputs": [],
      "source": [
        "evaluate_accuracy(testset, LeNet, device)"
      ]
    },
    {
      "cell_type": "code",
      "execution_count": null,
      "metadata": {
        "id": "KpDsq0Ga1EgS"
      },
      "outputs": [],
      "source": [
        "plt.plot(np.arange(n_epoch), lossdata_alex, label = \"Train\")\n",
        "plt.plot(np.arange(n_epoch), vallossdata_alex, label = \"Validation\")\n",
        "plt.title(\"AlexNet: loss vs. epoch\")\n",
        "plt.xlabel(\"epoch\")\n",
        "plt.ylabel(\"loss\")\n",
        "plt.xlim(0,n_epoch)\n",
        "plt.legend()\n",
        "plt.grid()\n",
        "plt.show()"
      ]
    },
    {
      "cell_type": "code",
      "execution_count": null,
      "metadata": {
        "id": "w5GQ8W9x2fTy"
      },
      "outputs": [],
      "source": [
        "plt.plot(np.arange(n_epoch), acc_alex, label = \"Train\")\n",
        "plt.plot(np.arange(n_epoch), valacc_alex, label = \"Validation\")\n",
        "plt.title(\"AlexNet: Accuracy vs. epoch\")\n",
        "plt.xlabel(\"epoch\")\n",
        "plt.ylabel(\"Accuracy\")\n",
        "plt.xlim(0,n_epoch)\n",
        "plt.grid()\n",
        "plt.legend()\n",
        "plt.show()"
      ]
    },
    {
      "cell_type": "code",
      "execution_count": null,
      "metadata": {
        "id": "xS6tCJt8kdrA"
      },
      "outputs": [],
      "source": [
        "evaluate_accuracy(testset, Alex, device)"
      ]
    },
    {
      "attachments": {},
      "cell_type": "markdown",
      "metadata": {
        "id": "1y4W_Z_Lxp0u"
      },
      "source": [
        "## Evaluation"
      ]
    },
    {
      "cell_type": "code",
      "execution_count": null,
      "metadata": {
        "id": "5Xv0pvJXzD8p"
      },
      "outputs": [],
      "source": [
        "from sklearn.metrics import confusion_matrix\n",
        "from sklearn.metrics import f1_score\n",
        "from sklearn.metrics import ConfusionMatrixDisplay\n",
        "import sklearn"
      ]
    },
    {
      "cell_type": "code",
      "execution_count": null,
      "metadata": {
        "id": "fUDFodMjn5hP"
      },
      "outputs": [],
      "source": [
        "def y_yhat(Net, device):\n",
        "  predicted = []\n",
        "  y_test = []\n",
        "  for data in testset:\n",
        "    X, y = data\n",
        "    X = X.to(device)\n",
        "    y = y.to(device)\n",
        "    output = Net(X)\n",
        "    for idx, i in enumerate(output):\n",
        "      predicted.append(torch.argmax(i).item())\n",
        "      y_test.append(y[idx].item())\n",
        "  return predicted, y_test\n",
        "      "
      ]
    },
    {
      "cell_type": "code",
      "execution_count": null,
      "metadata": {
        "colab": {
          "base_uri": "https://localhost:8080/",
          "height": 489
        },
        "id": "wE9PL8uxOPWI",
        "outputId": "0fee40b6-8088-48d5-b181-de25281a1cd3"
      },
      "outputs": [],
      "source": [
        "predicted, y_test = y_yhat(Le, device)\n",
        "\n",
        "cm = confusion_matrix(y_test, predicted)\n",
        "disp = ConfusionMatrixDisplay(confusion_matrix=cm, display_labels=['glioma', 'meningioma', 'notumor', 'pituitary'])\n",
        "disp.plot()\n",
        "disp.ax_.set_title(\"Confusion matrix of LeNet\")"
      ]
    },
    {
      "cell_type": "code",
      "execution_count": null,
      "metadata": {
        "colab": {
          "base_uri": "https://localhost:8080/"
        },
        "id": "hjGRfrV-Of6j",
        "outputId": "087aeade-f302-4b16-8d4a-c5a6ab1f2fad"
      },
      "outputs": [],
      "source": [
        "print(classification_report(y_test, predicted, target_names=['glioma', 'meningioma', 'notumor', 'pituitary']))"
      ]
    }
  ],
  "metadata": {
    "accelerator": "GPU",
    "colab": {
      "collapsed_sections": [
        "u1JTm3GgxMaq",
        "r6hy4fKZxdrQ"
      ],
      "gpuType": "A100",
      "provenance": []
    },
    "gpuClass": "standard",
    "kernelspec": {
      "display_name": "Python 3",
      "language": "python",
      "name": "python3"
    },
    "language_info": {
      "codemirror_mode": {
        "name": "ipython",
        "version": 3
      },
      "file_extension": ".py",
      "mimetype": "text/x-python",
      "name": "python",
      "nbconvert_exporter": "python",
      "pygments_lexer": "ipython3",
      "version": "3.11.3"
    },
    "orig_nbformat": 4
  },
  "nbformat": 4,
  "nbformat_minor": 0
}
